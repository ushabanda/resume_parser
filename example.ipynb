{
 "cells": [
  {
   "cell_type": "code",
   "execution_count": 5,
   "metadata": {
    "colab": {
     "base_uri": "https://localhost:8080/",
     "height": 306
    },
    "colab_type": "code",
    "collapsed": true,
    "id": "e2NULMLN6eea",
    "outputId": "200aeb3e-331e-49ae-fc09-2eda630d43c4"
   },
   "outputs": [
    {
     "name": "stderr",
     "output_type": "stream",
     "text": [
      "[nltk_data] Downloading package punkt to\n",
      "[nltk_data]     C:\\Users\\swain\\AppData\\Roaming\\nltk_data...\n",
      "[nltk_data]   Package punkt is already up-to-date!\n",
      "[nltk_data] Downloading package averaged_perceptron_tagger to\n",
      "[nltk_data]     C:\\Users\\swain\\AppData\\Roaming\\nltk_data...\n",
      "[nltk_data]   Package averaged_perceptron_tagger is already up-to-\n",
      "[nltk_data]       date!\n",
      "[nltk_data] Downloading package universal_tagset to\n",
      "[nltk_data]     C:\\Users\\swain\\AppData\\Roaming\\nltk_data...\n",
      "[nltk_data]   Package universal_tagset is already up-to-date!\n",
      "[nltk_data] Downloading package maxent_ne_chunker to\n",
      "[nltk_data]     C:\\Users\\swain\\AppData\\Roaming\\nltk_data...\n",
      "[nltk_data]   Package maxent_ne_chunker is already up-to-date!\n",
      "[nltk_data] Downloading package stopwords to\n",
      "[nltk_data]     C:\\Users\\swain\\AppData\\Roaming\\nltk_data...\n",
      "[nltk_data]   Package stopwords is already up-to-date!\n",
      "[nltk_data] Downloading package wordnet to\n",
      "[nltk_data]     C:\\Users\\swain\\AppData\\Roaming\\nltk_data...\n",
      "[nltk_data]   Package wordnet is already up-to-date!\n",
      "[nltk_data] Downloading package brown to\n",
      "[nltk_data]     C:\\Users\\swain\\AppData\\Roaming\\nltk_data...\n",
      "[nltk_data]   Package brown is already up-to-date!\n"
     ]
    },
    {
     "data": {
      "text/plain": [
       "True"
      ]
     },
     "execution_count": 5,
     "metadata": {},
     "output_type": "execute_result"
    }
   ],
   "source": [
    "import nltk\n",
    "\n",
    "nltk.download('punkt')\n",
    "nltk.download('averaged_perceptron_tagger')\n",
    "nltk.download('universal_tagset')\n",
    "nltk.download('maxent_ne_chunker')\n",
    "nltk.download('stopwords')\n",
    "nltk.download('wordnet')\n",
    "nltk.download('brown')"
   ]
  },
  {
   "cell_type": "code",
   "execution_count": 6,
   "metadata": {
    "colab": {
     "base_uri": "https://localhost:8080/",
     "height": 1000
    },
    "colab_type": "code",
    "collapsed": true,
    "id": "-Z1AYTSc7Fm_",
    "outputId": "27b09b2f-7519-41a3-a251-06a73b32648e"
   },
   "outputs": [
    {
     "name": "stdout",
     "output_type": "stream",
     "text": [
      "Requirement already satisfied: resume-parser in c:\\users\\swain\\appdata\\local\\programs\\python\\python37\\lib\\site-packages (0.8.4)\n",
      "Requirement already satisfied: docx2txt>=0.8 in c:\\users\\swain\\appdata\\local\\programs\\python\\python37\\lib\\site-packages (from resume-parser) (0.8)\n",
      "Requirement already satisfied: nltk>=3.5 in c:\\users\\swain\\appdata\\local\\programs\\python\\python37\\lib\\site-packages (from resume-parser) (3.5)\n",
      "Requirement already satisfied: numpy>=1.19.1 in c:\\users\\swain\\appdata\\local\\programs\\python\\python37\\lib\\site-packages (from resume-parser) (1.19.1)\n",
      "Requirement already satisfied: pandas>=1.1.0 in c:\\users\\swain\\appdata\\local\\programs\\python\\python37\\lib\\site-packages (from resume-parser) (1.1.0)\n",
      "Requirement already satisfied: pdfminer.six>=20200517 in c:\\users\\swain\\appdata\\local\\programs\\python\\python37\\lib\\site-packages (from resume-parser) (20200517)\n",
      "Requirement already satisfied: pdfplumber>=0.5.23 in c:\\users\\swain\\appdata\\local\\programs\\python\\python37\\lib\\site-packages (from resume-parser) (0.5.23)\n",
      "Requirement already satisfied: phonenumbers>=8.12.7 in c:\\users\\swain\\appdata\\local\\programs\\python\\python37\\lib\\site-packages (from resume-parser) (8.12.7)\n",
      "Requirement already satisfied: spacy>=2.3.2 in c:\\users\\swain\\appdata\\local\\programs\\python\\python37\\lib\\site-packages (from resume-parser) (2.3.2)\n",
      "Requirement already satisfied: stemming>=1.0.1 in c:\\users\\swain\\appdata\\local\\programs\\python\\python37\\lib\\site-packages (from resume-parser) (1.0.1)\n",
      "Requirement already satisfied: tika>=1.24 in c:\\users\\swain\\appdata\\local\\programs\\python\\python37\\lib\\site-packages (from resume-parser) (1.24)\n",
      "Requirement already satisfied: click in c:\\users\\swain\\appdata\\local\\programs\\python\\python37\\lib\\site-packages (from nltk>=3.5->resume-parser) (7.1.2)\n",
      "Requirement already satisfied: joblib in c:\\users\\swain\\appdata\\local\\programs\\python\\python37\\lib\\site-packages (from nltk>=3.5->resume-parser) (0.16.0)\n",
      "Requirement already satisfied: regex in c:\\users\\swain\\appdata\\local\\programs\\python\\python37\\lib\\site-packages (from nltk>=3.5->resume-parser) (2020.7.14)\n",
      "Requirement already satisfied: tqdm in c:\\users\\swain\\appdata\\local\\programs\\python\\python37\\lib\\site-packages (from nltk>=3.5->resume-parser) (4.48.2)\n",
      "Requirement already satisfied: python-dateutil>=2.7.3 in c:\\users\\swain\\appdata\\local\\programs\\python\\python37\\lib\\site-packages (from pandas>=1.1.0->resume-parser) (2.8.1)\n",
      "Requirement already satisfied: pytz>=2017.2 in c:\\users\\swain\\appdata\\local\\programs\\python\\python37\\lib\\site-packages (from pandas>=1.1.0->resume-parser) (2020.1)\n",
      "Requirement already satisfied: pycryptodome in c:\\users\\swain\\appdata\\local\\programs\\python\\python37\\lib\\site-packages (from pdfminer.six>=20200517->resume-parser) (3.9.8)\n",
      "Requirement already satisfied: sortedcontainers in c:\\users\\swain\\appdata\\local\\programs\\python\\python37\\lib\\site-packages (from pdfminer.six>=20200517->resume-parser) (2.2.2)\n",
      "Requirement already satisfied: chardet in c:\\users\\swain\\appdata\\local\\programs\\python\\python37\\lib\\site-packages (from pdfminer.six>=20200517->resume-parser) (3.0.4)\n",
      "Requirement already satisfied: Pillow>=7.0.0 in c:\\users\\swain\\appdata\\local\\programs\\python\\python37\\lib\\site-packages (from pdfplumber>=0.5.23->resume-parser) (7.2.0)\n",
      "Requirement already satisfied: Wand in c:\\users\\swain\\appdata\\local\\programs\\python\\python37\\lib\\site-packages (from pdfplumber>=0.5.23->resume-parser) (0.6.2)\n",
      "Requirement already satisfied: murmurhash<1.1.0,>=0.28.0 in c:\\users\\swain\\appdata\\local\\programs\\python\\python37\\lib\\site-packages (from spacy>=2.3.2->resume-parser) (1.0.2)\n",
      "Requirement already satisfied: cymem<2.1.0,>=2.0.2 in c:\\users\\swain\\appdata\\local\\programs\\python\\python37\\lib\\site-packages (from spacy>=2.3.2->resume-parser) (2.0.3)\n",
      "Requirement already satisfied: preshed<3.1.0,>=3.0.2 in c:\\users\\swain\\appdata\\local\\programs\\python\\python37\\lib\\site-packages (from spacy>=2.3.2->resume-parser) (3.0.2)\n",
      "Requirement already satisfied: thinc==7.4.1 in c:\\users\\swain\\appdata\\local\\programs\\python\\python37\\lib\\site-packages (from spacy>=2.3.2->resume-parser) (7.4.1)\n",
      "Requirement already satisfied: blis<0.5.0,>=0.4.0 in c:\\users\\swain\\appdata\\local\\programs\\python\\python37\\lib\\site-packages (from spacy>=2.3.2->resume-parser) (0.4.1)\n",
      "Requirement already satisfied: wasabi<1.1.0,>=0.4.0 in c:\\users\\swain\\appdata\\local\\programs\\python\\python37\\lib\\site-packages (from spacy>=2.3.2->resume-parser) (0.7.1)\n",
      "Requirement already satisfied: srsly<1.1.0,>=1.0.2 in c:\\users\\swain\\appdata\\local\\programs\\python\\python37\\lib\\site-packages (from spacy>=2.3.2->resume-parser) (1.0.2)\n",
      "Requirement already satisfied: catalogue<1.1.0,>=0.0.7 in c:\\users\\swain\\appdata\\local\\programs\\python\\python37\\lib\\site-packages (from spacy>=2.3.2->resume-parser) (1.0.0)\n",
      "Requirement already satisfied: setuptools in c:\\users\\swain\\appdata\\local\\programs\\python\\python37\\lib\\site-packages (from spacy>=2.3.2->resume-parser) (39.0.1)\n",
      "Requirement already satisfied: plac<1.2.0,>=0.9.6 in c:\\users\\swain\\appdata\\local\\programs\\python\\python37\\lib\\site-packages (from spacy>=2.3.2->resume-parser) (1.1.3)\n",
      "Requirement already satisfied: requests<3.0.0,>=2.13.0 in c:\\users\\swain\\appdata\\local\\programs\\python\\python37\\lib\\site-packages (from spacy>=2.3.2->resume-parser) (2.24.0)\n",
      "Requirement already satisfied: importlib-metadata>=0.20 in c:\\users\\swain\\appdata\\local\\programs\\python\\python37\\lib\\site-packages (from catalogue<1.1.0,>=0.0.7->spacy>=2.3.2->resume-parser) (1.7.0)\n",
      "Requirement already satisfied: six>=1.5 in c:\\users\\swain\\appdata\\local\\programs\\python\\python37\\lib\\site-packages (from python-dateutil>=2.7.3->pandas>=1.1.0->resume-parser) (1.15.0)\n",
      "Requirement already satisfied: idna<3,>=2.5 in c:\\users\\swain\\appdata\\local\\programs\\python\\python37\\lib\\site-packages (from requests<3.0.0,>=2.13.0->spacy>=2.3.2->resume-parser) (2.10)\n",
      "Requirement already satisfied: urllib3!=1.25.0,!=1.25.1,<1.26,>=1.21.1 in c:\\users\\swain\\appdata\\local\\programs\\python\\python37\\lib\\site-packages (from requests<3.0.0,>=2.13.0->spacy>=2.3.2->resume-parser) (1.25.10)\n",
      "Requirement already satisfied: certifi>=2017.4.17 in c:\\users\\swain\\appdata\\local\\programs\\python\\python37\\lib\\site-packages (from requests<3.0.0,>=2.13.0->spacy>=2.3.2->resume-parser) (2020.6.20)\n",
      "Requirement already satisfied: zipp>=0.5 in c:\\users\\swain\\appdata\\local\\programs\\python\\python37\\lib\\site-packages (from importlib-metadata>=0.20->catalogue<1.1.0,>=0.0.7->spacy>=2.3.2->resume-parser) (3.1.0)\n"
     ]
    }
   ],
   "source": [
    "!pip install resume-parser"
   ]
  },
  {
   "cell_type": "code",
   "execution_count": 7,
   "metadata": {
    "colab": {
     "base_uri": "https://localhost:8080/",
     "height": 289
    },
    "colab_type": "code",
    "collapsed": true,
    "id": "X4uzK3uU7BXt",
    "outputId": "4a5dafd8-f6b8-4965-c4c9-4e398858b038"
   },
   "outputs": [
    {
     "name": "stderr",
     "output_type": "stream",
     "text": [
      "'wget' is not recognized as an internal or external command,\n",
      "operable program or batch file.\n"
     ]
    }
   ],
   "source": [
    "!wget \"https://github.com/kbrajwani/resume_parser/raw/master/Kumar's%20Resume.pdf\""
   ]
  },
  {
   "cell_type": "code",
   "execution_count": 8,
   "metadata": {
    "colab": {
     "base_uri": "https://localhost:8080/",
     "height": 170
    },
    "colab_type": "code",
    "id": "7OC7mqfc6eeo",
    "outputId": "f3519eed-e171-476d-f6ca-10421077c324"
   },
   "outputs": [
    {
     "ename": "TypeError",
     "evalue": "read_file() missing 1 required positional argument: 'file'",
     "output_type": "error",
     "traceback": [
      "\u001b[1;31m---------------------------------------------------------------------------\u001b[0m",
      "\u001b[1;31mTypeError\u001b[0m                                 Traceback (most recent call last)",
      "\u001b[1;32m<ipython-input-8-182f1e8970e8>\u001b[0m in \u001b[0;36m<module>\u001b[1;34m\u001b[0m\n\u001b[0;32m      1\u001b[0m \u001b[1;32mfrom\u001b[0m \u001b[0mresume_parser\u001b[0m \u001b[1;32mimport\u001b[0m \u001b[0mresumeparse\u001b[0m\u001b[1;33m\u001b[0m\u001b[0m\n\u001b[1;32m----> 2\u001b[1;33m \u001b[0mresumeparse\u001b[0m\u001b[1;33m.\u001b[0m\u001b[0mread_file\u001b[0m\u001b[1;33m(\u001b[0m\u001b[1;34m\"sample/chavan.docx\"\u001b[0m\u001b[1;33m)\u001b[0m\u001b[1;33m\u001b[0m\u001b[0m\n\u001b[0m",
      "\u001b[1;31mTypeError\u001b[0m: read_file() missing 1 required positional argument: 'file'"
     ]
    }
   ],
   "source": [
    "from resume_parser import resumeparse\n",
    "resumeparse.read_file(\"sample_input.pdf\")"
   ]
  },
  {
   "cell_type": "code",
   "execution_count": null,
   "metadata": {},
   "outputs": [],
   "source": [
    "import spacy\n",
    "from spacy.matcher import Matcher\n",
    "from spacy.matcher import PhraseMatcher\n",
    "import os\n",
    "nlp = spacy.load('en_core_web_sm')\n",
    "# initialize matcher with a vocab\n",
    "matcher = Matcher(nlp.vocab) \n",
    "\n",
    "base_path = \"resume_parser/\"\n",
    "\n",
    "file = os.path.join(base_path,\"titles_combined.txt\")\n",
    "file = open(file, \"r\", encoding='utf-8')\n",
    "designation = [line.strip().lower() for line in file]\n",
    "designitionmatcher = PhraseMatcher(nlp.vocab)\n",
    "patterns = [nlp.make_doc(text) for text in designation if len(nlp.make_doc(text)) < 10]"
   ]
  },
  {
   "cell_type": "code",
   "execution_count": null,
   "metadata": {},
   "outputs": [
    {
     "data": {
      "text/plain": [
       "74370"
      ]
     },
     "execution_count": 4,
     "metadata": {},
     "output_type": "execute_result"
    }
   ],
   "source": [
    "len(patterns)"
   ]
  },
  {
   "cell_type": "code",
   "execution_count": null,
   "metadata": {},
   "outputs": [],
   "source": [
    "import pickle \n",
    "pickle.dump(patterns, open(\"patterns.pkl\",\"wb\"))"
   ]
  },
  {
   "cell_type": "code",
   "execution_count": null,
   "metadata": {},
   "outputs": [
    {
     "data": {
      "text/plain": [
       "74370"
      ]
     },
     "execution_count": 8,
     "metadata": {},
     "output_type": "execute_result"
    }
   ],
   "source": [
    "patterns1 = pickle.load(open(\"patterns.pkl\",\"rb\"))\n",
    "len(patterns1)"
   ]
  },
  {
   "cell_type": "code",
   "execution_count": null,
   "metadata": {},
   "outputs": [
    {
     "data": {
      "text/plain": [
       "(.net developer, .net developer)"
      ]
     },
     "execution_count": 9,
     "metadata": {},
     "output_type": "execute_result"
    }
   ],
   "source": [
    "patterns[0], patterns1[0]"
   ]
  },
  {
   "cell_type": "code",
   "execution_count": null,
   "metadata": {},
   "outputs": [],
   "source": []
  }
 ],
 "metadata": {
  "colab": {
   "name": "example.ipynb",
   "provenance": []
  },
  "kernelspec": {
   "display_name": "Python 3",
   "language": "python",
   "name": "python3"
  },
  "language_info": {
   "codemirror_mode": {
    "name": "ipython",
    "version": 3
   },
   "file_extension": ".py",
   "mimetype": "text/x-python",
   "name": "python",
   "nbconvert_exporter": "python",
   "pygments_lexer": "ipython3",
   "version": "3.7.0"
  }
 },
 "nbformat": 4,
 "nbformat_minor": 1
}
